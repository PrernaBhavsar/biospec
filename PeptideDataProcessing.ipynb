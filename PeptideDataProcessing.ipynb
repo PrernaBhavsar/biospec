{
  "nbformat": 4,
  "nbformat_minor": 5,
  "metadata": {
    "kernelspec": {
      "display_name": "Python 3",
      "language": "python",
      "name": "python3"
    },
    "language_info": {
      "codemirror_mode": {
        "name": "ipython",
        "version": 3
      },
      "file_extension": ".py",
      "mimetype": "text/x-python",
      "name": "python",
      "nbconvert_exporter": "python",
      "pygments_lexer": "ipython3",
      "version": "3.7.0"
    },
    "colab": {
      "name": "PeptideDataProcessing.ipynb",
      "provenance": [],
      "collapsed_sections": [],
      "include_colab_link": true
    }
  },
  "cells": [
    {
      "cell_type": "markdown",
      "metadata": {
        "id": "view-in-github",
        "colab_type": "text"
      },
      "source": [
        "<a href=\"https://colab.research.google.com/github/tanmaylaud/biospec/blob/main/PeptideDataProcessing.ipynb\" target=\"_parent\"><img src=\"https://colab.research.google.com/assets/colab-badge.svg\" alt=\"Open In Colab\"/></a>"
      ]
    },
    {
      "cell_type": "code",
      "metadata": {
        "id": "exterior-steel"
      },
      "source": [
        "!pip install pandarallel"
      ],
      "id": "exterior-steel",
      "execution_count": null,
      "outputs": []
    },
    {
      "cell_type": "code",
      "metadata": {
        "colab": {
          "base_uri": "https://localhost:8080/"
        },
        "id": "surprised-address",
        "outputId": "fa7f79cb-d599-444d-b5e3-00f6f425d8f3"
      },
      "source": [
        "!pip install pyteomics\n",
        "from pyteomics import mzml, auxiliary\n",
        "import pandas as pd\n",
        "import torch\n",
        "import glob\n",
        "import numpy as np\n",
        "from pandarallel import pandarallel\n",
        "import re\n",
        "from scipy.sparse import csr_matrix\n",
        "from ftplib import FTP\n",
        "from contextlib import redirect_stdout\n",
        "import io"
      ],
      "id": "surprised-address",
      "execution_count": null,
      "outputs": [
        {
          "output_type": "stream",
          "text": [
            "Collecting pyteomics\n",
            "\u001b[?25l  Downloading https://files.pythonhosted.org/packages/a4/db/335c3aa16592b955b527e3151a8215d70130221df8e478e20bbd0478fae2/pyteomics-4.4.2-py2.py3-none-any.whl (196kB)\n",
            "\r\u001b[K     |█▋                              | 10kB 15.4MB/s eta 0:00:01\r\u001b[K     |███▎                            | 20kB 21.8MB/s eta 0:00:01\r\u001b[K     |█████                           | 30kB 27.2MB/s eta 0:00:01\r\u001b[K     |██████▋                         | 40kB 29.4MB/s eta 0:00:01\r\u001b[K     |████████▎                       | 51kB 28.3MB/s eta 0:00:01\r\u001b[K     |██████████                      | 61kB 22.9MB/s eta 0:00:01\r\u001b[K     |███████████▋                    | 71kB 22.9MB/s eta 0:00:01\r\u001b[K     |█████████████▎                  | 81kB 19.5MB/s eta 0:00:01\r\u001b[K     |███████████████                 | 92kB 20.7MB/s eta 0:00:01\r\u001b[K     |████████████████▋               | 102kB 20.6MB/s eta 0:00:01\r\u001b[K     |██████████████████▎             | 112kB 20.6MB/s eta 0:00:01\r\u001b[K     |████████████████████            | 122kB 20.6MB/s eta 0:00:01\r\u001b[K     |█████████████████████▋          | 133kB 20.6MB/s eta 0:00:01\r\u001b[K     |███████████████████████▎        | 143kB 20.6MB/s eta 0:00:01\r\u001b[K     |█████████████████████████       | 153kB 20.6MB/s eta 0:00:01\r\u001b[K     |██████████████████████████▋     | 163kB 20.6MB/s eta 0:00:01\r\u001b[K     |████████████████████████████▎   | 174kB 20.6MB/s eta 0:00:01\r\u001b[K     |██████████████████████████████  | 184kB 20.6MB/s eta 0:00:01\r\u001b[K     |███████████████████████████████▋| 194kB 20.6MB/s eta 0:00:01\r\u001b[K     |████████████████████████████████| 204kB 20.6MB/s \n",
            "\u001b[?25hInstalling collected packages: pyteomics\n",
            "Successfully installed pyteomics-4.4.2\n"
          ],
          "name": "stdout"
        }
      ]
    },
    {
      "cell_type": "code",
      "metadata": {
        "id": "2YYW5NUDJGCo"
      },
      "source": [
        "from google.colab import drive\n",
        "drive.mount('/content/drive')"
      ],
      "id": "2YYW5NUDJGCo",
      "execution_count": null,
      "outputs": []
    },
    {
      "cell_type": "code",
      "metadata": {
        "colab": {
          "base_uri": "https://localhost:8080/"
        },
        "id": "g45IKLJ-JSGf",
        "outputId": "d3d2d9c1-2712-4537-d06c-d3051b288f61"
      },
      "source": [
        "%cd '/content/drive/MyDrive/CSE291C00/Stage 1 Analysis 29 tissues Project/'"
      ],
      "id": "g45IKLJ-JSGf",
      "execution_count": null,
      "outputs": [
        {
          "output_type": "stream",
          "text": [
            "/content/drive/MyDrive/CSE291C00/Stage 1 Analysis 29 tissues Project\n"
          ],
          "name": "stdout"
        }
      ]
    },
    {
      "cell_type": "code",
      "metadata": {
        "id": "controversial-magazine"
      },
      "source": [
        "pandarallel.initialize(progress_bar=False, verbose = 0)"
      ],
      "id": "controversial-magazine",
      "execution_count": null,
      "outputs": []
    },
    {
      "cell_type": "code",
      "metadata": {
        "colab": {
          "base_uri": "https://localhost:8080/"
        },
        "id": "integrated-drama",
        "outputId": "67e0167d-1a62-4b10-aaa9-8f30fc7017ed"
      },
      "source": [
        "# finding the minimum value in the m/z array\n",
        "minval =  float('inf')\n",
        "maxlen_i = 0\n",
        "for i, r in enumerate(df['m/z array']):\n",
        "    if minval > min(r):\n",
        "        minval = min(r)\n",
        "        maxlen_i = i\n",
        "minval"
      ],
      "id": "integrated-drama",
      "execution_count": null,
      "outputs": [
        {
          "output_type": "execute_result",
          "data": {
            "text/plain": [
              "50.443913"
            ]
          },
          "metadata": {
            "tags": []
          },
          "execution_count": 33
        }
      ]
    },
    {
      "cell_type": "code",
      "metadata": {
        "colab": {
          "base_uri": "https://localhost:8080/"
        },
        "id": "e-RLwGgIMBgS",
        "outputId": "9ae6f3a2-50f9-4b39-d063-0cc87e78c796"
      },
      "source": [
        "#proteomics dataset used for the project.\n",
        "!unzip ProteoSAFe-MAESTRO-d5f87289-identified_spectra.zip"
      ],
      "id": "e-RLwGgIMBgS",
      "execution_count": null,
      "outputs": [
        {
          "output_type": "stream",
          "text": [
            "Archive:  ProteoSAFe-MAESTRO-d5f87289-identified_spectra.zip\n",
            "replace MAESTRO-d5f87289-identified_spectra-main.tsv? [y]es, [n]o, [A]ll, [N]one, [r]ename: "
          ],
          "name": "stdout"
        }
      ]
    },
    {
      "cell_type": "code",
      "metadata": {
        "scrolled": true,
        "colab": {
          "base_uri": "https://localhost:8080/",
          "height": 626
        },
        "id": "celtic-composer",
        "outputId": "a4e1b165-727f-4ae7-da01-d19086f94bb5"
      },
      "source": [
        "df1 = pd.read_csv('MAESTRO-d5f87289-identified_spectra-main.tsv', delimiter='\\t')\n",
        "df1"
      ],
      "id": "celtic-composer",
      "execution_count": null,
      "outputs": [
        {
          "output_type": "execute_result",
          "data": {
            "text/html": [
              "<div>\n",
              "<style scoped>\n",
              "    .dataframe tbody tr th:only-of-type {\n",
              "        vertical-align: middle;\n",
              "    }\n",
              "\n",
              "    .dataframe tbody tr th {\n",
              "        vertical-align: top;\n",
              "    }\n",
              "\n",
              "    .dataframe thead th {\n",
              "        text-align: right;\n",
              "    }\n",
              "</style>\n",
              "<table border=\"1\" class=\"dataframe\">\n",
              "  <thead>\n",
              "    <tr style=\"text-align: right;\">\n",
              "      <th></th>\n",
              "      <th>cluster index</th>\n",
              "      <th>AllFiles</th>\n",
              "      <th>sum(precursor intensity)</th>\n",
              "      <th>RTMean</th>\n",
              "      <th>RTStdErr</th>\n",
              "      <th>parent mass</th>\n",
              "      <th>ScanNumber</th>\n",
              "      <th>ProteosafeFilePath</th>\n",
              "      <th>PrecursorCharge</th>\n",
              "      <th>Original_Path</th>\n",
              "      <th>Mean_KL</th>\n",
              "      <th>Max_KL</th>\n",
              "      <th>Min_SNR2_Peaks</th>\n",
              "      <th>Max_SNR2_Peaks</th>\n",
              "      <th>Spectrum_index</th>\n",
              "      <th>LorikeetFilePath</th>\n",
              "      <th>Peptide</th>\n",
              "      <th>Variant_group</th>\n",
              "      <th>Spectral_network</th>\n",
              "      <th>Num_tags</th>\n",
              "      <th>Protein</th>\n",
              "      <th>FDR</th>\n",
              "    </tr>\n",
              "  </thead>\n",
              "  <tbody>\n",
              "    <tr>\n",
              "      <th>0</th>\n",
              "      <td>5</td>\n",
              "      <td>inputspectra/spec-00018.mgf</td>\n",
              "      <td>650067.0</td>\n",
              "      <td>820.427</td>\n",
              "      <td>0</td>\n",
              "      <td>1074.53</td>\n",
              "      <td>5518</td>\n",
              "      <td>spec-00018.mgf</td>\n",
              "      <td>3</td>\n",
              "      <td>f.MSV000083508/ccms_peak/stomach/Trypsin_HCD_Q...</td>\n",
              "      <td>3.63020</td>\n",
              "      <td>3.63020</td>\n",
              "      <td>41</td>\n",
              "      <td>41</td>\n",
              "      <td>3989</td>\n",
              "      <td>MSV000083508/ccms_peak/stomach/Trypsin_HCD_QEx...</td>\n",
              "      <td>K.IREEYPDR.I</td>\n",
              "      <td>117109</td>\n",
              "      <td>26191.0</td>\n",
              "      <td>102</td>\n",
              "      <td>tr|Q5ST81|Q5ST81_HUMAN</td>\n",
              "      <td>0.000969</td>\n",
              "    </tr>\n",
              "    <tr>\n",
              "      <th>1</th>\n",
              "      <td>5</td>\n",
              "      <td>inputspectra/spec-00034.mgf</td>\n",
              "      <td>1259150.0</td>\n",
              "      <td>1021.980</td>\n",
              "      <td>0</td>\n",
              "      <td>1074.53</td>\n",
              "      <td>6917</td>\n",
              "      <td>spec-00034.mgf</td>\n",
              "      <td>3</td>\n",
              "      <td>f.MSV000083508/ccms_peak/stomach/Trypsin_HCD_Q...</td>\n",
              "      <td>3.63020</td>\n",
              "      <td>3.63020</td>\n",
              "      <td>125</td>\n",
              "      <td>125</td>\n",
              "      <td>4979</td>\n",
              "      <td>MSV000083508/ccms_peak/stomach/Trypsin_HCD_QEx...</td>\n",
              "      <td>K.IREEYPDR.I</td>\n",
              "      <td>117109</td>\n",
              "      <td>26191.0</td>\n",
              "      <td>102</td>\n",
              "      <td>tr|Q5ST81|Q5ST81_HUMAN</td>\n",
              "      <td>0.000969</td>\n",
              "    </tr>\n",
              "    <tr>\n",
              "      <th>2</th>\n",
              "      <td>5</td>\n",
              "      <td>inputspectra/spec-00046.mgf</td>\n",
              "      <td>460434.0</td>\n",
              "      <td>889.118</td>\n",
              "      <td>0</td>\n",
              "      <td>1074.53</td>\n",
              "      <td>5799</td>\n",
              "      <td>spec-00046.mgf</td>\n",
              "      <td>3</td>\n",
              "      <td>f.MSV000083508/ccms_peak/stomach/Trypsin_HCD_Q...</td>\n",
              "      <td>3.63020</td>\n",
              "      <td>3.63020</td>\n",
              "      <td>44</td>\n",
              "      <td>44</td>\n",
              "      <td>4074</td>\n",
              "      <td>MSV000083508/ccms_peak/stomach/Trypsin_HCD_QEx...</td>\n",
              "      <td>K.IREEYPDR.I</td>\n",
              "      <td>117109</td>\n",
              "      <td>26191.0</td>\n",
              "      <td>102</td>\n",
              "      <td>tr|Q5ST81|Q5ST81_HUMAN</td>\n",
              "      <td>0.000969</td>\n",
              "    </tr>\n",
              "    <tr>\n",
              "      <th>3</th>\n",
              "      <td>5</td>\n",
              "      <td>inputspectra/spec-00071.mgf</td>\n",
              "      <td>1033040.0</td>\n",
              "      <td>854.070</td>\n",
              "      <td>0</td>\n",
              "      <td>1074.53</td>\n",
              "      <td>5636</td>\n",
              "      <td>spec-00071.mgf</td>\n",
              "      <td>3</td>\n",
              "      <td>f.MSV000083508/ccms_peak/stomach/Trypsin_HCD_Q...</td>\n",
              "      <td>3.63020</td>\n",
              "      <td>3.63020</td>\n",
              "      <td>48</td>\n",
              "      <td>48</td>\n",
              "      <td>4001</td>\n",
              "      <td>MSV000083508/ccms_peak/stomach/Trypsin_HCD_QEx...</td>\n",
              "      <td>K.IREEYPDR.I</td>\n",
              "      <td>117109</td>\n",
              "      <td>26191.0</td>\n",
              "      <td>102</td>\n",
              "      <td>tr|Q5ST81|Q5ST81_HUMAN</td>\n",
              "      <td>0.000969</td>\n",
              "    </tr>\n",
              "    <tr>\n",
              "      <th>4</th>\n",
              "      <td>6</td>\n",
              "      <td>inputspectra/spec-00033.mgf</td>\n",
              "      <td>1434600.0</td>\n",
              "      <td>699.658</td>\n",
              "      <td>0</td>\n",
              "      <td>1074.69</td>\n",
              "      <td>3732</td>\n",
              "      <td>spec-00033.mgf</td>\n",
              "      <td>3</td>\n",
              "      <td>f.MSV000083508/ccms_peak/stomach/Trypsin_HCD_Q...</td>\n",
              "      <td>3.63020</td>\n",
              "      <td>3.63020</td>\n",
              "      <td>53</td>\n",
              "      <td>53</td>\n",
              "      <td>2101</td>\n",
              "      <td>MSV000083508/ccms_peak/stomach/Trypsin_HCD_QEx...</td>\n",
              "      <td>K.LKPGAPLRPK.L</td>\n",
              "      <td>149201</td>\n",
              "      <td>6604.0</td>\n",
              "      <td>101</td>\n",
              "      <td>tr|A0A087WWY3|A0A087WWY3_HUMAN</td>\n",
              "      <td>0.000000</td>\n",
              "    </tr>\n",
              "    <tr>\n",
              "      <th>...</th>\n",
              "      <td>...</td>\n",
              "      <td>...</td>\n",
              "      <td>...</td>\n",
              "      <td>...</td>\n",
              "      <td>...</td>\n",
              "      <td>...</td>\n",
              "      <td>...</td>\n",
              "      <td>...</td>\n",
              "      <td>...</td>\n",
              "      <td>...</td>\n",
              "      <td>...</td>\n",
              "      <td>...</td>\n",
              "      <td>...</td>\n",
              "      <td>...</td>\n",
              "      <td>...</td>\n",
              "      <td>...</td>\n",
              "      <td>...</td>\n",
              "      <td>...</td>\n",
              "      <td>...</td>\n",
              "      <td>...</td>\n",
              "      <td>...</td>\n",
              "      <td>...</td>\n",
              "    </tr>\n",
              "    <tr>\n",
              "      <th>1491914</th>\n",
              "      <td>1372561</td>\n",
              "      <td>inputspectra/spec-00058.mgf</td>\n",
              "      <td>85261.4</td>\n",
              "      <td>5351.320</td>\n",
              "      <td>0</td>\n",
              "      <td>2597.39</td>\n",
              "      <td>49866</td>\n",
              "      <td>spec-00058.mgf</td>\n",
              "      <td>2</td>\n",
              "      <td>f.MSV000083508/ccms_peak/stomach/Trypsin_HCD_Q...</td>\n",
              "      <td>1.14826</td>\n",
              "      <td>1.14826</td>\n",
              "      <td>38</td>\n",
              "      <td>38</td>\n",
              "      <td>43710</td>\n",
              "      <td>MSV000083508/ccms_peak/stomach/Trypsin_HCD_QEx...</td>\n",
              "      <td>M.(A,41.013)TQVEPLLPGGATLLQAEEHGGLVR.K</td>\n",
              "      <td>21587</td>\n",
              "      <td>NaN</td>\n",
              "      <td>100</td>\n",
              "      <td>tr|A0A0B4J210|A0A0B4J210_HUMAN</td>\n",
              "      <td>0.001057</td>\n",
              "    </tr>\n",
              "    <tr>\n",
              "      <th>1491915</th>\n",
              "      <td>1372562</td>\n",
              "      <td>inputspectra/spec-00031.mgf</td>\n",
              "      <td>118631.0</td>\n",
              "      <td>6031.090</td>\n",
              "      <td>0</td>\n",
              "      <td>2597.41</td>\n",
              "      <td>54440</td>\n",
              "      <td>spec-00031.mgf</td>\n",
              "      <td>2</td>\n",
              "      <td>f.MSV000083508/ccms_peak/stomach/Trypsin_HCD_Q...</td>\n",
              "      <td>1.14826</td>\n",
              "      <td>1.14826</td>\n",
              "      <td>121</td>\n",
              "      <td>121</td>\n",
              "      <td>46866</td>\n",
              "      <td>MSV000083508/ccms_peak/stomach/Trypsin_HCD_QEx...</td>\n",
              "      <td>F.QIEETIDRETSGNLEQLLLAVVK.S</td>\n",
              "      <td>196055</td>\n",
              "      <td>23055.0</td>\n",
              "      <td>100</td>\n",
              "      <td>tr|D6RBE9|D6RBE9_HUMAN</td>\n",
              "      <td>0.001057</td>\n",
              "    </tr>\n",
              "    <tr>\n",
              "      <th>1491916</th>\n",
              "      <td>1372577</td>\n",
              "      <td>inputspectra/spec-00025.mgf</td>\n",
              "      <td>98456.4</td>\n",
              "      <td>6109.820</td>\n",
              "      <td>0</td>\n",
              "      <td>2598.15</td>\n",
              "      <td>52978</td>\n",
              "      <td>spec-00025.mgf</td>\n",
              "      <td>2</td>\n",
              "      <td>f.MSV000083508/ccms_peak/stomach/Trypsin_HCD_Q...</td>\n",
              "      <td>3.22637</td>\n",
              "      <td>3.22637</td>\n",
              "      <td>20</td>\n",
              "      <td>20</td>\n",
              "      <td>44643</td>\n",
              "      <td>MSV000083508/ccms_peak/stomach/Trypsin_HCD_QEx...</td>\n",
              "      <td>R.(C,39.995)PETLFQPSFIGMESAGIHETTY.N</td>\n",
              "      <td>29253</td>\n",
              "      <td>15725.0</td>\n",
              "      <td>101</td>\n",
              "      <td>sp|P63267-2|ACTH_HUMAN</td>\n",
              "      <td>0.001057</td>\n",
              "    </tr>\n",
              "    <tr>\n",
              "      <th>1491917</th>\n",
              "      <td>1372577</td>\n",
              "      <td>inputspectra/spec-00054.mgf</td>\n",
              "      <td>-1.0</td>\n",
              "      <td>6089.000</td>\n",
              "      <td>0</td>\n",
              "      <td>2598.15</td>\n",
              "      <td>49850</td>\n",
              "      <td>spec-00054.mgf</td>\n",
              "      <td>2</td>\n",
              "      <td>f.MSV000083508/ccms_peak/stomach/Trypsin_HCD_Q...</td>\n",
              "      <td>3.22637</td>\n",
              "      <td>3.22637</td>\n",
              "      <td>35</td>\n",
              "      <td>35</td>\n",
              "      <td>40697</td>\n",
              "      <td>MSV000083508/ccms_peak/stomach/Trypsin_HCD_QEx...</td>\n",
              "      <td>R.(C,39.995)PETLFQPSFIGMESAGIHETTY.N</td>\n",
              "      <td>29253</td>\n",
              "      <td>15725.0</td>\n",
              "      <td>101</td>\n",
              "      <td>sp|P63267-2|ACTH_HUMAN</td>\n",
              "      <td>0.001057</td>\n",
              "    </tr>\n",
              "    <tr>\n",
              "      <th>1491918</th>\n",
              "      <td>1372584</td>\n",
              "      <td>inputspectra/spec-00025.mgf</td>\n",
              "      <td>-1.0</td>\n",
              "      <td>4064.620</td>\n",
              "      <td>0</td>\n",
              "      <td>3897.81</td>\n",
              "      <td>33782</td>\n",
              "      <td>spec-00025.mgf</td>\n",
              "      <td>3</td>\n",
              "      <td>f.MSV000083508/ccms_peak/stomach/Trypsin_HCD_Q...</td>\n",
              "      <td>3.26802</td>\n",
              "      <td>3.26802</td>\n",
              "      <td>94</td>\n",
              "      <td>94</td>\n",
              "      <td>27777</td>\n",
              "      <td>MSV000083508/ccms_peak/stomach/Trypsin_HCD_QEx...</td>\n",
              "      <td>K.{95.974}DVAEEIANYRPTLDTLHEQASALPQEHAESPDVR.G</td>\n",
              "      <td>45365</td>\n",
              "      <td>8234.0</td>\n",
              "      <td>100</td>\n",
              "      <td>sp|Q01082-3|SPTB2_HUMAN</td>\n",
              "      <td>0.000086</td>\n",
              "    </tr>\n",
              "  </tbody>\n",
              "</table>\n",
              "<p>1491919 rows × 22 columns</p>\n",
              "</div>"
            ],
            "text/plain": [
              "         cluster index  ...       FDR\n",
              "0                    5  ...  0.000969\n",
              "1                    5  ...  0.000969\n",
              "2                    5  ...  0.000969\n",
              "3                    5  ...  0.000969\n",
              "4                    6  ...  0.000000\n",
              "...                ...  ...       ...\n",
              "1491914        1372561  ...  0.001057\n",
              "1491915        1372562  ...  0.001057\n",
              "1491916        1372577  ...  0.001057\n",
              "1491917        1372577  ...  0.001057\n",
              "1491918        1372584  ...  0.000086\n",
              "\n",
              "[1491919 rows x 22 columns]"
            ]
          },
          "metadata": {
            "tags": []
          },
          "execution_count": 14
        }
      ]
    },
    {
      "cell_type": "code",
      "metadata": {
        "colab": {
          "base_uri": "https://localhost:8080/"
        },
        "id": "itg0jyd0MaDE",
        "outputId": "ae572733-b42c-4550-e242-8186c3cc2b07"
      },
      "source": [
        "df1.columns"
      ],
      "id": "itg0jyd0MaDE",
      "execution_count": null,
      "outputs": [
        {
          "output_type": "execute_result",
          "data": {
            "text/plain": [
              "Index(['cluster index', 'AllFiles', 'sum(precursor intensity)', 'RTMean',\n",
              "       'RTStdErr', 'parent mass', 'ScanNumber', 'ProteosafeFilePath',\n",
              "       'PrecursorCharge', 'Original_Path', 'Mean_KL', 'Max_KL',\n",
              "       'Min_SNR2_Peaks', 'Max_SNR2_Peaks', 'Spectrum_index',\n",
              "       'LorikeetFilePath', 'Peptide', 'Variant_group', 'Spectral_network',\n",
              "       'Num_tags', 'Protein', 'FDR'],\n",
              "      dtype='object')"
            ]
          },
          "metadata": {
            "tags": []
          },
          "execution_count": 15
        }
      ]
    },
    {
      "cell_type": "code",
      "metadata": {
        "id": "z1mD7hZwaSJv"
      },
      "source": [
        "# creating a fixed length array by taking min and max index.\n",
        "MIN_INDEX = 50\n",
        "MAX_INDEX = 2050\n",
        "\n",
        "# function first normalizes the values, then stores the values by checking the min and max index.\n",
        "# the intensity array norm is transformed to represent the spectrum information in the range 50 to 2050 \n",
        "# for simplicity the data is stored as a csr matrix.\n",
        "def process_mzml(f, min_index = MIN_INDEX, max_index = MAX_INDEX, columns = ['scan_id','ms level','scanList','count']):\n",
        "  def normalize(x):\n",
        "    x = np.array(x)\n",
        "    total = np.sum(x)\n",
        "    return x/total\n",
        "  def process(x):\n",
        "    output = np.zeros(MAX_INDEX+1)\n",
        "    for i,ele in enumerate(x['m/z array']):\n",
        "        if int(ele) > MAX_INDEX:\n",
        "            break\n",
        "        output[int(ele)-MIN_INDEX] = max(output[int(ele)-MIN_INDEX],x['intensity array norm'][i])\n",
        "    return output\n",
        "  def sparsify(x):\n",
        "    return csr_matrix(x)\n",
        "  def get_scan(x):\n",
        "    return int(re.search('scan=(\\d+)',x['id']).group(0).replace('scan=',''))\n",
        "\n",
        "\n",
        "  reader = mzml.read(f,read_schema=True)\n",
        "  data = []\n",
        "  try:\n",
        "    while reader is not None:\n",
        "      data.append(reader.next())\n",
        "  except:\n",
        "    print(\"Done reading mzml file. Processing file...\")    \n",
        "  df = pd.DataFrame(data)\n",
        "  # normalize\n",
        "  df['intensity array norm'] = df['intensity array'].apply(normalize)\n",
        "  # convert to given range index (fixed length)\n",
        "  df['spectrum'] = df.parallel_apply(process, axis = 1)\n",
        "  # convert to a sparse matrix\n",
        "  df['spectrum_sparse'] = df['spectrum'].apply(sparsify)\n",
        "  # store scan id and spectrum info\n",
        "  df['scan_id'] = df.apply(get_scan,axis=1)\n",
        "  return df[columns], df[['spectrum_sparse','scan_id']]\n",
        "\n",
        "# saving the spectrum data as a npz file\n",
        "def save_spectrum(file, df):\n",
        "  with open(file+'_spectrum.npz','wb') as f:\n",
        "    np.savez(f,np.array(df))\n",
        "# keeping the meta information of the spectrums like mass, charge, scanlist, scan id\n",
        "def save_meta(file, df):\n",
        "  df.to_csv(file+'_processed_meta.csv')\n",
        "\n",
        "# merge the peptide information along with the spectrum meta information by joining on Scan ID.\n",
        "def filter_and_merge(df, processed_meta, file):\n",
        "  filtered = df[df['Original_Path']=='f.'+file]\n",
        "  filtered['scan_id'] = filtered['ScanNumber']\n",
        "  return df.merge(processed_meta, on ='scan_id')\n",
        "\n",
        "# saving the final merged data file\n",
        "def save_merged(file,df):\n",
        "  df.to_csv(file+'_merged.csv')"
      ],
      "id": "z1mD7hZwaSJv",
      "execution_count": null,
      "outputs": []
    },
    {
      "cell_type": "code",
      "metadata": {
        "colab": {
          "base_uri": "https://localhost:8080/",
          "height": 35
        },
        "id": "vuClqkEHS9nu",
        "outputId": "32548efe-c7d2-4b8d-de88-fbccee51f765"
      },
      "source": [
        "# connecting to ftp server to get mzml files\n",
        "ftp = FTP('massive.ucsd.edu')  # connect to host, default port\n",
        "ftp.login()                     # user anonymous, passwd anonymous@"
      ],
      "id": "vuClqkEHS9nu",
      "execution_count": null,
      "outputs": [
        {
          "output_type": "execute_result",
          "data": {
            "application/vnd.google.colaboratory.intrinsic+json": {
              "type": "string"
            },
            "text/plain": [
              "'230 Login successful.'"
            ]
          },
          "metadata": {
            "tags": []
          },
          "execution_count": 119
        }
      ]
    },
    {
      "cell_type": "code",
      "metadata": {
        "colab": {
          "base_uri": "https://localhost:8080/",
          "height": 35
        },
        "id": "MQD5kuZXT2HO",
        "outputId": "6729f147-9385-4289-b0b6-7067a334806c"
      },
      "source": [
        "ftp.cwd('MSV000083508/ccms_peak/stomach/Trypsin_HCD_QExactiveplus')"
      ],
      "id": "MQD5kuZXT2HO",
      "execution_count": null,
      "outputs": [
        {
          "output_type": "execute_result",
          "data": {
            "application/vnd.google.colaboratory.intrinsic+json": {
              "type": "string"
            },
            "text/plain": [
              "'250 Directory successfully changed.'"
            ]
          },
          "metadata": {
            "tags": []
          },
          "execution_count": 120
        }
      ]
    },
    {
      "cell_type": "code",
      "metadata": {
        "id": "Ep-d-Bn-VIjE"
      },
      "source": [
        "# getting the file names \n",
        "f = io.StringIO()\n",
        "with redirect_stdout(f):\n",
        "    ftp.dir()\n",
        "s = f.getvalue()\n"
      ],
      "id": "Ep-d-Bn-VIjE",
      "execution_count": null,
      "outputs": []
    },
    {
      "cell_type": "code",
      "metadata": {
        "colab": {
          "base_uri": "https://localhost:8080/"
        },
        "id": "ldTFQy0tY3Ar",
        "outputId": "fb655acb-1b17-4ab6-b9d1-c3f9335db97e"
      },
      "source": [
        "s = s.replace('\\n',' ')\n",
        "s = s.split()\n",
        "files = []\n",
        "for w in s:\n",
        "  if '.mzML' in w:\n",
        "    files.append(w)\n",
        "\n",
        "files"
      ],
      "id": "ldTFQy0tY3Ar",
      "execution_count": null,
      "outputs": [
        {
          "output_type": "execute_result",
          "data": {
            "text/plain": [
              "['01087_A01_P010739_S00_N01_R1.mzML',\n",
              " '01087_A02_P010739_S00_N09_R1.mzML',\n",
              " '01087_A03_P010739_S00_N17_R1.mzML',\n",
              " '01087_A04_P010739_S00_N25_R1.mzML',\n",
              " '01087_A05_P010739_S00_N33_R2.mzML',\n",
              " '01087_B01_P010739_S00_N02_R1.mzML',\n",
              " '01087_B02_P010739_S00_N10_R1.mzML',\n",
              " '01087_B03_P010739_S00_N18_R1.mzML',\n",
              " '01087_B04_P010739_S00_N26_R1.mzML',\n",
              " '01087_B05_P010739_S00_N34_R2.mzML',\n",
              " '01087_C01_P010739_S00_N03_R1.mzML',\n",
              " '01087_C02_P010739_S00_N11_R1.mzML',\n",
              " '01087_C03_P010739_S00_N19_R1.mzML',\n",
              " '01087_C04_P010739_S00_N27_R1.mzML',\n",
              " '01087_C05_P010739_S00_N35_R2.mzML',\n",
              " '01087_D01_P010739_S00_N04_R1.mzML',\n",
              " '01087_D02_P010739_S00_N12_R1.mzML',\n",
              " '01087_D03_P010739_S00_N20_R1.mzML',\n",
              " '01087_D04_P010739_S00_N28_R1.mzML',\n",
              " '01087_D05_P010739_S00_N36_R1.mzML',\n",
              " '01087_E01_P010739_S00_N05_R1.mzML',\n",
              " '01087_E02_P010739_S00_N13_R1.mzML',\n",
              " '01087_E03_P010739_S00_N21_R1.mzML',\n",
              " '01087_E04_P010739_S00_N29_R1.mzML',\n",
              " '01087_F01_P010739_S00_N06_R1.mzML',\n",
              " '01087_F02_P010739_S00_N14_R1.mzML',\n",
              " '01087_F03_P010739_S00_N22_R1.mzML',\n",
              " '01087_F04_P010739_S00_N30_R1.mzML',\n",
              " '01087_G01_P010739_S00_N07_R1.mzML',\n",
              " '01087_G02_P010739_S00_N15_R1.mzML',\n",
              " '01087_G03_P010739_S00_N23_R1.mzML',\n",
              " '01087_G04_P010739_S00_N31_R1.mzML',\n",
              " '01087_H01_P010739_S00_N08_R1.mzML',\n",
              " '01087_H02_P010739_S00_N16_R1.mzML',\n",
              " '01087_H03_P010739_S00_N24_R1.mzML',\n",
              " '01087_H04_P010739_S00_N32_R1.mzML',\n",
              " '01276_A01_P013128_S00_N01_R1.mzML',\n",
              " '01276_A02_P013128_S00_N36_R1.mzML',\n",
              " '01276_A03_P013128_S00_N16_R1.mzML',\n",
              " '01276_A04_P013128_S00_N24_R1.mzML',\n",
              " '01276_A05_P013128_S00_N32_R1.mzML',\n",
              " '01276_B01_P013128_S00_N02_R1.mzML',\n",
              " '01276_B02_P013128_S00_N09_R1.mzML',\n",
              " '01276_B03_P013128_S00_N17_R1.mzML',\n",
              " '01276_B04_P013128_S00_N25_R1.mzML',\n",
              " '01276_B05_P013128_S00_N33_R1.mzML',\n",
              " '01276_C01_P013128_S00_N03_R1.mzML',\n",
              " '01276_C02_P013128_S00_N10_R1.mzML',\n",
              " '01276_C03_P013128_S00_N18_R1.mzML',\n",
              " '01276_C04_P013128_S00_N26_R1.mzML',\n",
              " '01276_C05_P013128_S00_N34_R1.mzML',\n",
              " '01276_D01_P013128_S00_N04_R1.mzML',\n",
              " '01276_D02_P013128_S00_N11_R1.mzML',\n",
              " '01276_D03_P013128_S00_N19_R1.mzML',\n",
              " '01276_D04_P013128_S00_N27_R1.mzML',\n",
              " '01276_D05_P013128_S00_N35_R1.mzML',\n",
              " '01276_E01_P013128_S00_N05_R1.mzML',\n",
              " '01276_E02_P013128_S00_N12_R1.mzML',\n",
              " '01276_E03_P013128_S00_N20_R1.mzML',\n",
              " '01276_E04_P013128_S00_N28_R1.mzML',\n",
              " '01276_F01_P013128_S00_N06_R1.mzML',\n",
              " '01276_F02_P013128_S00_N13_R1.mzML',\n",
              " '01276_F03_P013128_S00_N21_R1.mzML',\n",
              " '01276_F04_P013128_S00_N29_R1.mzML',\n",
              " '01276_G01_P013128_S00_N07_R1.mzML',\n",
              " '01276_G02_P013128_S00_N14_R1.mzML',\n",
              " '01276_G03_P013128_S00_N22_R1.mzML',\n",
              " '01276_G04_P013128_S00_N30_R1.mzML',\n",
              " '01276_H01_P013128_S00_N08_R1.mzML',\n",
              " '01276_H02_P013128_S00_N15_R1.mzML',\n",
              " '01276_H03_P013128_S00_N23_R1.mzML',\n",
              " '01276_H04_P013128_S00_N31_R1.mzML']"
            ]
          },
          "metadata": {
            "tags": []
          },
          "execution_count": 123
        }
      ]
    },
    {
      "cell_type": "code",
      "metadata": {
        "id": "iG7pwYn4T0El"
      },
      "source": [
        "# taking 5 mzML files from the stomach tissue dataset\n",
        "FILE_COUNT = 5\n",
        "for f in files[:FILE_COUNT]:\n",
        "  with open(f, 'wb') as fp:\n",
        "    ftp.retrbinary('RETR '+f, fp.write)"
      ],
      "id": "iG7pwYn4T0El",
      "execution_count": null,
      "outputs": []
    },
    {
      "cell_type": "code",
      "metadata": {
        "id": "IRMe8nZxZyEq"
      },
      "source": [
        "# performing the data processing steps on each file\n",
        "# for each mzML file we get a spectrum.npz file, meta.csv, merged.csv\n",
        "FILE_COUNT = 5\n",
        "for f in files[:FILE_COUNT]:\n",
        "  meta, sparse = process_mzml(f)\n",
        "  save_spectrum(f,sparse)\n",
        "  save_meta(f,meta)\n",
        "  merged = filter_and_merge(df1,meta,f)\n",
        "  save_merged(f, merged)"
      ],
      "id": "IRMe8nZxZyEq",
      "execution_count": null,
      "outputs": []
    },
    {
      "cell_type": "code",
      "metadata": {
        "id": "PG8SobSMhgWa"
      },
      "source": [
        "# creating a definition to merge all the data_processed files into a single pickle\n",
        "spectrum_extension = '.npz'\n",
        "csv_extension = '_merged.csv'\n",
        "csv_filenames = [i for i in glob.glob(f\"*{csv_extension}\")]\n",
        "spectrum_filenames = [i for i in glob.glob(f\"*{spectrum_extension}\")]\n",
        "filenames = zip(sorted(csv_filenames),sorted(spectrum_filenames))\n",
        "data = []\n",
        "for files in filenames:\n",
        "  csv_file, spectrum_file = files\n",
        "  print(csv_file)\n",
        "  with open(spectrum_file,'rb') as f:\n",
        "    spectrum = np.load(f, allow_pickle=True)\n",
        "    spectrum = pd.DataFrame.from_dict({item: np.array(spectrum[item]) for item in spectrum.files},orient='index')\n",
        "    spectrum = pd.DataFrame(spectrum[0]['arr_0'], columns=['spectrum','scan_id'])\n",
        "  merged = pd.read_csv(csv_file)\n",
        "  merged = merged[['scan_id','PrecursorCharge','parent mass','Peptide','Protein']].merge(spectrum,on='scan_id')\n",
        "  data.append(merged)\n",
        "# final pickle file containing the spectrum information, peptide, protein, scan id.\n",
        "# this is used in the models to create the train, test and validation sets.\n",
        "pd.concat(data).to_pickle('stomach_merged.pickle')"
      ],
      "id": "PG8SobSMhgWa",
      "execution_count": null,
      "outputs": []
    }
  ]
}